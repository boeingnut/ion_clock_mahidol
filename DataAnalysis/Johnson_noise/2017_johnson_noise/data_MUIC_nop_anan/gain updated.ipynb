{
 "cells": [
  {
   "cell_type": "code",
   "execution_count": 1,
   "metadata": {
    "collapsed": true
   },
   "outputs": [],
   "source": [
    "%matplotlib inline\n",
    "from matplotlib import pyplot as plt\n",
    "import numpy as np\n",
    "import math\n",
    "import csv\n",
    "import lmfit\n",
    "import numpy.fft as fft"
   ]
  },
  {
   "cell_type": "code",
   "execution_count": 2,
   "metadata": {
    "collapsed": true
   },
   "outputs": [],
   "source": [
    "v2 = (((55)/(10000+55.0))*(50.0))/1000.0 #units is in volts"
   ]
  },
  {
   "cell_type": "code",
   "execution_count": 3,
   "metadata": {
    "collapsed": true
   },
   "outputs": [],
   "source": [
    "def ft(x):              #fourier transform to find the frequency\n",
    "    spectrum = fft.fft(x)\n",
    "\n",
    "    freq = fft.fftfreq(len(spectrum))\n",
    "\n",
    "    threshold = 0.7 * max(abs(spectrum))\n",
    "    mask = abs(spectrum) > threshold\n",
    "    peaks = freq[mask]\n",
    "    return peaks"
   ]
  },
  {
   "cell_type": "code",
   "execution_count": 4,
   "metadata": {
    "collapsed": true
   },
   "outputs": [],
   "source": [
    "def sinmodel(params, x):   #lmfit to fit the sine functions\n",
    "    A = params['A'].value\n",
    "    B = params['B'].value\n",
    "    f = params['f'].value\n",
    "    output = A*np.sin(2*np.pi*f*x+B)\n",
    "    return output\n",
    "\n",
    "def sinfit(params, x, data, err):\n",
    "    model = sinmodel(params, x)\n",
    "    return (model-data)/err"
   ]
  },
  {
   "cell_type": "code",
   "execution_count": 5,
   "metadata": {
    "collapsed": false
   },
   "outputs": [],
   "source": [
    "def findgain():            #protagonist of this code\n",
    "    gain = []\n",
    "    for i in range(1,78):      #opening file and putting it into time array and volt array\n",
    "        x = \"NewFile\" + str(i) + \".csv\"\n",
    "        t = []\n",
    "        volt = []\n",
    "        \n",
    "        with open(x,'rb') as gaincsv:\n",
    "            read = csv.reader(gaincsv)\n",
    "            for d in read:\n",
    "                t.append(d[0])\n",
    "                volt.append(d[1])\n",
    "        t = t[2:]\n",
    "        volt = volt[2:]\n",
    "        t = np.array([float(i) for i in t])\n",
    "        volt = np.array([float(i) for i in volt])\n",
    "\n",
    "        error = [0.2]*len(t)                   #error for fitting\n",
    "        er = np.array(error)\n",
    "        \n",
    "        \n",
    "        params = lmfit.Parameters()            #fitting parameters\n",
    "        params.add('A', value = 1, vary = True)\n",
    "        params.add('B', value = 0.0)\n",
    "        params.add('f', value = ft(volt)[0], vary = True)\n",
    "\n",
    "        result = lmfit.minimize(sinfit, params, args = (t, volt, er))   #fitting\n",
    "        \n",
    "        if result.redchi > 1.0:             #if the frequency we use is bad, use the next one\n",
    "            params.add('f', value = float(ft(volt)[1]), vary = True)\n",
    "\n",
    "            result = lmfit.minimize(sinfit, params, args = (t, volt, er))\n",
    "            gain.append(result.params['A'])\n",
    "            print 'This message means there is a bad fit.'\n",
    "            \n",
    "        else:                             #if the frequency is good, use it\n",
    "            gain.append(result.params['A'])\n",
    "    return gain                          #returns a array of frequencies"
   ]
  },
  {
   "cell_type": "code",
   "execution_count": 6,
   "metadata": {
    "collapsed": false
   },
   "outputs": [
    {
     "name": "stdout",
     "output_type": "stream",
     "text": [
      "This message means there is a bad fit.\n",
      "This message means there is a bad fit.\n",
      "This message means there is a bad fit.\n",
      "This message means there is a bad fit.\n",
      "This message means there is a bad fit.\n",
      "This message means there is a bad fit.\n",
      "This message means there is a bad fit.\n",
      "This message means there is a bad fit.\n",
      "This message means there is a bad fit.\n",
      "This message means there is a bad fit.\n",
      "This message means there is a bad fit.\n",
      "This message means there is a bad fit.\n"
     ]
    }
   ],
   "source": [
    "gainx = abs(np.array(findgain()))\n",
    "\n",
    "freq = [10,20,30,40,50,60,70,80,90,100,150,200,250,300,350,400,450,500,550,600,650,700,750,800,850,900,950,1000,1100,1200,1300,1400,1500,1600\n",
    "     ,1700,1800,1900,2000,2200,2400,2600,2800,3000,3500,4000,4500,5000,5500,6000,6500,7000,7500,8000,8500,9000,9500,10000,12000,14000,16000,18000,20000,\n",
    "     22000,24000,26000,28000,30000,35000,40000,45000,50000,55000,60000,70000,80000,90000,100000]\n",
    "\n",
    "# freq = np.array([90,100,150,200,250,300,350,400,450,500,550,600,650,700,750,800,850,900,950,1000,1100,1200,1300,1400,1500,1600\n",
    "#      ,1700,1800,1900,2000,2200,2400,2600,2800,3000,3500,4000,4500,5000,5500,6000,6500,7000,7500,8000,8500,9000,9500,10000,12000,14000,16000,18000,20000,\n",
    "#      22000,24000,26000,28000,30000,35000,40000,45000,50000,55000,60000,70000,80000,90000,100000])\n"
   ]
  },
  {
   "cell_type": "code",
   "execution_count": 7,
   "metadata": {
    "collapsed": false
   },
   "outputs": [],
   "source": [
    "gainsq = (gainx/v2)**2"
   ]
  },
  {
   "cell_type": "code",
   "execution_count": 8,
   "metadata": {
    "collapsed": false
   },
   "outputs": [
    {
     "data": {
      "image/png": "[encoded data removed]",
      "text/plain": [
       "<matplotlib.figure.Figure at 0x9a4c3c8>"
      ]
     },
     "metadata": {},
     "output_type": "display_data"
    }
   ],
   "source": [
    "plt.plot(freq,gainsq)\n",
    "plt.xscale('log') \n",
    "#something's weird about the first few files, so for we used the data points we got from the very first time we did the experiment"
   ]
  },
  {
   "cell_type": "code",
   "execution_count": 9,
   "metadata": {
    "collapsed": false
   },
   "outputs": [
    {
     "name": "stdout",
     "output_type": "stream",
     "text": [
      "[  1.81133109e+04   1.47612047e+08   1.25000867e+07   1.38580411e+07\n",
      "   1.12767559e+06   2.10371752e+06   2.10371752e+06   2.10371752e+06\n",
      "   7.46911533e+06   1.00308130e+07   2.65759281e+07   4.63261724e+07\n",
      "   6.68098262e+07   8.53666552e+07   1.01166889e+08   1.15348285e+08\n",
      "   1.27156482e+08   1.37266081e+08   1.45602759e+08   1.51885221e+08\n",
      "   1.57254351e+08   1.61913185e+08   1.65932739e+08   1.69015495e+08\n",
      "   1.71875510e+08   1.73902881e+08   1.75905513e+08   1.77292391e+08\n",
      "   1.80296143e+08   1.82208688e+08   1.83428243e+08   1.84544560e+08\n",
      "   1.85434400e+08   1.85434547e+08   1.86045830e+08   1.86414919e+08\n",
      "   1.86442440e+08   1.86627912e+08   1.86693555e+08   1.85919311e+08\n",
      "   1.85829930e+08   1.85684870e+08   1.84443666e+08   1.82145220e+08\n",
      "   1.80127363e+08   1.77298368e+08   1.76778656e+08   1.73971924e+08\n",
      "   1.70672883e+08   1.67526887e+08   1.63824532e+08   1.60476114e+08\n",
      "   1.56709814e+08   1.52864825e+08   1.48783086e+08   1.45036881e+08\n",
      "   1.45036881e+08   1.25213126e+08   1.09739724e+08   9.56699015e+07\n",
      "   8.27494724e+07   7.14585023e+07   7.14585023e+07   5.31138332e+07\n",
      "   4.60232649e+07   3.98655371e+07   3.43158255e+07   2.39141421e+07\n",
      "   1.69620677e+07   1.21084145e+07   8.87601861e+06   6.63065622e+06\n",
      "   5.05075365e+06   3.05889534e+06   1.88606135e+06   1.25323634e+06\n",
      "   8.09862898e+05]\n"
     ]
    }
   ],
   "source": [
    "print gainsq"
   ]
  },
  {
   "cell_type": "code",
   "execution_count": 17,
   "metadata": {
    "collapsed": false
   },
   "outputs": [
    {
     "data": {
      "image/png": "[encoded data removed]",
      "text/plain": [
       "<matplotlib.figure.Figure at 0xaad5cc0>"
      ]
     },
     "metadata": {},
     "output_type": "display_data"
    }
   ],
   "source": [
    "gainx[0] = 0.041\n",
    "gainx[1] = 0.075\n",
    "gainx[2] = 0.134\n",
    "gainx[3] = 0.208\n",
    "gainx[4] = 0.296\n",
    "fixgainsq = (gainx/v2)**2\n",
    "plt.plot(freq,fixgainsq)\n",
    "plt.xscale('log')"
   ]
  },
  {
   "cell_type": "code",
   "execution_count": 18,
   "metadata": {
    "collapsed": false
   },
   "outputs": [
    {
     "data": {
      "text/plain": [
       "3746583485735.5767"
      ]
     },
     "execution_count": 18,
     "metadata": {},
     "output_type": "execute_result"
    }
   ],
   "source": [
    "np.trapz(fixgainsq,freq)\n",
    "#this our delta f"
   ]
  },
  {
   "cell_type": "code",
   "execution_count": null,
   "metadata": {
    "collapsed": true
   },
   "outputs": [],
   "source": []
  }
 ],
 "metadata": {
  "kernelspec": {
   "display_name": "Python 2",
   "language": "python",
   "name": "python2"
  },
  "language_info": {
   "codemirror_mode": {
    "name": "ipython",
    "version": 2
   },
   "file_extension": ".py",
   "mimetype": "text/x-python",
   "name": "python",
   "nbconvert_exporter": "python",
   "pygments_lexer": "ipython2",
   "version": "2.7.11"
  }
 },
 "nbformat": 4,
 "nbformat_minor": 0
}
